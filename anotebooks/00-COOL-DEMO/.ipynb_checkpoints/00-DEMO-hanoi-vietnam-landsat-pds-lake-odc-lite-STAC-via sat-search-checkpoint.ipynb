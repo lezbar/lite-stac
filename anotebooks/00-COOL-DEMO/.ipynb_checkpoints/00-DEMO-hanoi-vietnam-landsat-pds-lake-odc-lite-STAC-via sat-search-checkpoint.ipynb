{
 "cells": [
  {
   "cell_type": "markdown",
   "metadata": {},
   "source": [
    "# Quick Talk on Cool Cloud Thingies\n",
    "[POWERPOINT](https://drive.google.com/open?id=1p-O_aq4OP3v6vcWmaN80A-1Vbj97-BQDNjPOuMl0h_M)"
   ]
  },
  {
   "cell_type": "markdown",
   "metadata": {},
   "source": [
    "# Hanoi via landsat-pds data lake\n",
    "\n",
    "## Goals\n",
    "\n",
    "1. Exploit Cloud Based Data Lakes\n",
    "    - COGS\n",
    "    - STAC\n",
    "2. Zero footprint Infrastructure\n",
    "3. Extremely lean - very few lines of code - small technology debt\n",
    "4. Mashups are where its at!\n",
    "\n",
    "## no indexing necssary\n",
    "\n",
    "# NO INDEXING -Yay! \n",
    "- enter Marching Band\n",
    "\n",
    "\n",
    "1. test indexing software parse_MTL\n",
    "2. test the cube - look at panda_df\n",
    "3. display the xarray\n",
    "\n"
   ]
  },
  {
   "cell_type": "code",
   "execution_count": 1,
   "metadata": {},
   "outputs": [
    {
     "name": "stdout",
     "output_type": "stream",
     "text": [
      "env: CURL_CA_BUNDLE=/etc/ssl/certs/ca-certificates.crt\n"
     ]
    }
   ],
   "source": [
    "%env CURL_CA_BUNDLE=/etc/ssl/certs/ca-certificates.crt"
   ]
  },
  {
   "cell_type": "code",
   "execution_count": 2,
   "metadata": {},
   "outputs": [],
   "source": [
    "# This did not work for me and CURL\n",
    "# ! export CURL_CA_BUNDLE=/etc/ssl/certs/ca-certificates.crt"
   ]
  },
  {
   "cell_type": "code",
   "execution_count": 3,
   "metadata": {},
   "outputs": [
    {
     "name": "stdout",
     "output_type": "stream",
     "text": [
      "/etc/ssl/certs/ca-certificates.crt\r\n"
     ]
    }
   ],
   "source": [
    "! ls /etc/ssl/certs/ca-certificates.crt"
   ]
  },
  {
   "cell_type": "code",
   "execution_count": 4,
   "metadata": {},
   "outputs": [],
   "source": [
    "# try this - this did not work either\n",
    "import os\n",
    "# os.environ[\"CURL_CA_BUNDLE\"] = \"CURL_CA_BUNDLE=/etc/ssl/certs/ca-certificates.crt\"\n",
    "# os.environ[\"CURL_CA_BUNDLE\"] = \"CURL_CA_BUNDLE=/etc/ssl/certs/\""
   ]
  },
  {
   "cell_type": "code",
   "execution_count": 5,
   "metadata": {},
   "outputs": [],
   "source": [
    "#!scp sleepy:./hanoi\\* ../aoi/\n"
   ]
  },
  {
   "cell_type": "code",
   "execution_count": 6,
   "metadata": {},
   "outputs": [
    {
     "ename": "ModuleNotFoundError",
     "evalue": "No module named 'litestacLib'",
     "output_type": "error",
     "traceback": [
      "\u001b[0;31m---------------------------------------------------------------------------\u001b[0m",
      "\u001b[0;31mModuleNotFoundError\u001b[0m                       Traceback (most recent call last)",
      "\u001b[0;32m<ipython-input-6-fc5209e063ea>\u001b[0m in \u001b[0;36m<module>\u001b[0;34m()\u001b[0m\n\u001b[1;32m      1\u001b[0m \u001b[0;32mimport\u001b[0m \u001b[0mdatetime\u001b[0m\u001b[0;34m\u001b[0m\u001b[0;34m\u001b[0m\u001b[0m\n\u001b[0;32m----> 2\u001b[0;31m \u001b[0;32mfrom\u001b[0m \u001b[0mlitestacLib\u001b[0m\u001b[0;34m.\u001b[0m\u001b[0mls_api\u001b[0m \u001b[0;32mimport\u001b[0m \u001b[0mLitestac\u001b[0m\u001b[0;34m\u001b[0m\u001b[0;34m\u001b[0m\u001b[0m\n\u001b[0m",
      "\u001b[0;31mModuleNotFoundError\u001b[0m: No module named 'litestacLib'"
     ]
    }
   ],
   "source": [
    "import datetime\n",
    "from litestacLib.ls_api import Litestac\n",
    "\n"
   ]
  },
  {
   "cell_type": "code",
   "execution_count": null,
   "metadata": {},
   "outputs": [],
   "source": [
    "my_aoi_file = '../aoi/hanoi.geojson'\n",
    "\n",
    "date_range = (datetime.datetime(2013,2,1), datetime.datetime(2015,1,31))\n",
    "# date_range = (datetime(2013,7,6), datetime(2018,7,7))\n",
    "\n",
    "# es_index = 'rwanda'\n",
    "# es_type = 'cube'\n",
    "\n",
    "lc = Litestac()\n",
    "\n",
    "measurements = ('red','green','blue',)\n",
    "\n",
    "# return a pandas data frame product id creation date and red\n",
    "panda_df = lc.search(my_aoi_file,\n",
    "             time = date_range, measurements = measurements )\n"
   ]
  },
  {
   "cell_type": "code",
   "execution_count": null,
   "metadata": {},
   "outputs": [],
   "source": [
    "panda_df\n"
   ]
  },
  {
   "cell_type": "code",
   "execution_count": null,
   "metadata": {},
   "outputs": [],
   "source": [
    "from notebookLib.nb_display import Ldisplay\n",
    "ld = Ldisplay()\n",
    "ld.map_geojson(my_aoi_file)"
   ]
  },
  {
   "cell_type": "code",
   "execution_count": null,
   "metadata": {},
   "outputs": [],
   "source": [
    "prune_panda_df = panda_df.loc[panda_df['path']=='127']"
   ]
  },
  {
   "cell_type": "code",
   "execution_count": null,
   "metadata": {},
   "outputs": [],
   "source": [
    "ds = lc.load(my_aoi_file, measurements, prune_panda_df)"
   ]
  },
  {
   "cell_type": "markdown",
   "metadata": {},
   "source": [
    "# Xarrays are THE BOMB!"
   ]
  },
  {
   "cell_type": "code",
   "execution_count": null,
   "metadata": {},
   "outputs": [],
   "source": [
    "ds"
   ]
  },
  {
   "cell_type": "code",
   "execution_count": null,
   "metadata": {},
   "outputs": [],
   "source": [
    "%matplotlib inline\n",
    "display_color = 'red'\n",
    "# \n",
    "ds[display_color].plot.imshow('x', 'y', col='datePR', col_wrap=4, cmap='prism')"
   ]
  },
  {
   "cell_type": "code",
   "execution_count": null,
   "metadata": {},
   "outputs": [],
   "source": [
    "from notebookLib.nb_DEAPlotting import nb_rgb\n",
    "\n",
    "nb_rgb(ds,bands = ['red', 'green', 'blue'], index = [0,1,6,7,8,11,13,14,15], index_dim='datePR',\n",
    "       percentile_stretch=(.2,.70), aspect=1.2)"
   ]
  },
  {
   "cell_type": "code",
   "execution_count": null,
   "metadata": {},
   "outputs": [],
   "source": [
    "from notebookLib.nb_DEAPlotting import animated_timeseries\n",
    "animated_timeseries(ds,output_path='./hanoi.mp4',bands = ['red', 'green', 'blue'], time_dim='datePR',  \n",
    "      percentile_stretch=(.2,.85), interval=1200)"
   ]
  },
  {
   "cell_type": "code",
   "execution_count": null,
   "metadata": {},
   "outputs": [],
   "source": [
    "!ls"
   ]
  },
  {
   "cell_type": "markdown",
   "metadata": {},
   "source": [
    "[hanoi movie click HERE](hanoi.mp4)"
   ]
  },
  {
   "cell_type": "code",
   "execution_count": null,
   "metadata": {},
   "outputs": [],
   "source": [
    "from notebookLib.nb_animate import nb_animated_timeseries\n",
    "\n",
    "nb_animated_timeseries(ds,output_path='./hanoi2.mp4',bands = ['red', 'green', 'blue'], time_dim='datePR',  \n",
    "      percentile_stretch=(.2,.85), interval=1200)"
   ]
  },
  {
   "cell_type": "markdown",
   "metadata": {},
   "source": [
    "## WARNING Movie Below\n",
    "[hanoi2 movie click HERE](hanoi2.mp4)\n",
    "# PLAY Movie Above"
   ]
  },
  {
   "cell_type": "code",
   "execution_count": null,
   "metadata": {},
   "outputs": [],
   "source": [
    "!ls"
   ]
  },
  {
   "cell_type": "markdown",
   "metadata": {},
   "source": [
    "# 2013-12-18 \n",
    "### is my favorite image\n",
    "## lets drill in with cog-explorer"
   ]
  },
  {
   "cell_type": "code",
   "execution_count": null,
   "metadata": {},
   "outputs": [],
   "source": [
    "from notebookLib.nb_mashup import nb_cog_explore\n",
    "date = '2013-12-18'\n",
    "pd = prune_panda_df \n",
    "\n",
    "url = nb_cog_explore(pd, date, '127', '045')\n",
    "\n",
    "print(url)\n"
   ]
  },
  {
   "cell_type": "markdown",
   "metadata": {},
   "source": [
    "# Click on LINKS ABOVE ; Have Fun"
   ]
  },
  {
   "cell_type": "code",
   "execution_count": null,
   "metadata": {},
   "outputs": [],
   "source": []
  }
 ],
 "metadata": {
  "kernelspec": {
   "display_name": "Python 3",
   "language": "python",
   "name": "python3"
  },
  "language_info": {
   "codemirror_mode": {
    "name": "ipython",
    "version": 3
   },
   "file_extension": ".py",
   "mimetype": "text/x-python",
   "name": "python",
   "nbconvert_exporter": "python",
   "pygments_lexer": "ipython3",
   "version": "3.6.7"
  }
 },
 "nbformat": 4,
 "nbformat_minor": 2
}
