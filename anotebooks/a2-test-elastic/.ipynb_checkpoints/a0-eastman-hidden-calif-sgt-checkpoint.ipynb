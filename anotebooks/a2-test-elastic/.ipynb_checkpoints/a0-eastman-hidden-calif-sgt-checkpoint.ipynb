{
 "cells": [
  {
   "cell_type": "markdown",
   "metadata": {},
   "source": [
    "# index and test calf data\n",
    "## lsaa-staging-cog"
   ]
  },
  {
   "cell_type": "code",
   "execution_count": 1,
   "metadata": {},
   "outputs": [],
   "source": [
    "#! scp sleepy:./Downloads/hidde*.geojson ."
   ]
  },
  {
   "cell_type": "code",
   "execution_count": 2,
   "metadata": {},
   "outputs": [],
   "source": [
    "%matplotlib inline"
   ]
  },
  {
   "cell_type": "markdown",
   "metadata": {},
   "source": [
    "# Get the AOI using geojson.io\n",
    "\n",
    "\n",
    "http://geojson.io/#map=10/30.2/-2.2"
   ]
  },
  {
   "cell_type": "code",
   "execution_count": 3,
   "metadata": {},
   "outputs": [
    {
     "ename": "ModuleNotFoundError",
     "evalue": "No module named 'litelasticLib'",
     "output_type": "error",
     "traceback": [
      "\u001b[0;31m---------------------------------------------------------------------------\u001b[0m",
      "\u001b[0;31mModuleNotFoundError\u001b[0m                       Traceback (most recent call last)",
      "\u001b[0;32m<ipython-input-3-174d3487fc61>\u001b[0m in \u001b[0;36m<module>\u001b[0;34m\u001b[0m\n\u001b[1;32m      1\u001b[0m \u001b[0;32mimport\u001b[0m \u001b[0mdatetime\u001b[0m\u001b[0;34m\u001b[0m\u001b[0;34m\u001b[0m\u001b[0m\n\u001b[0;32m----> 2\u001b[0;31m \u001b[0;32mfrom\u001b[0m \u001b[0mlitelasticLib\u001b[0m\u001b[0;34m.\u001b[0m\u001b[0mle_api\u001b[0m \u001b[0;32mimport\u001b[0m \u001b[0mLecube\u001b[0m\u001b[0;34m\u001b[0m\u001b[0;34m\u001b[0m\u001b[0m\n\u001b[0m\u001b[1;32m      3\u001b[0m \u001b[0;34m\u001b[0m\u001b[0m\n\u001b[1;32m      4\u001b[0m \u001b[0;31m# my_aoi_file = 'pine_lake.geojson'\u001b[0m\u001b[0;34m\u001b[0m\u001b[0;34m\u001b[0m\u001b[0;34m\u001b[0m\u001b[0m\n\u001b[1;32m      5\u001b[0m \u001b[0;31m# my_aoi_file = 'pachico.geojson'\u001b[0m\u001b[0;34m\u001b[0m\u001b[0;34m\u001b[0m\u001b[0;34m\u001b[0m\u001b[0m\n",
      "\u001b[0;31mModuleNotFoundError\u001b[0m: No module named 'litelasticLib'"
     ]
    }
   ],
   "source": [
    "import datetime\n",
    "from litelasticLib.le_api import Lecube\n",
    "\n",
    "# my_aoi_file = 'pine_lake.geojson'\n",
    "# my_aoi_file = 'pachico.geojson'\n",
    "\n",
    "my_aoi_file = 'hidden.geojson'\n",
    "\n",
    "# date_range = (datetime.datetime(2013,2,1), datetime.datetime(2015,7,31))\n",
    "date_range = (datetime.datetime(2014,1,20), datetime.datetime(2014,5,28))\n",
    "\n",
    "\n",
    "\n",
    "es_index = 'cube'\n",
    "es_type = 'calif'\n",
    "\n",
    "lc = Lecube()\n",
    "\n",
    "measurements = ('red','green','blue',)\n",
    "\n",
    "# return a pandas data frame product id creation date and red\n",
    "panda_df = lc.search(es_index, es_type, my_aoi_file, \n",
    "             time = date_range, measurements = measurements )"
   ]
  },
  {
   "cell_type": "code",
   "execution_count": null,
   "metadata": {},
   "outputs": [],
   "source": [
    "panda_df"
   ]
  },
  {
   "cell_type": "markdown",
   "metadata": {},
   "source": [
    "# That's Cool What's NEXT Tony?\n",
    "\n",
    "0. test load and organize the index main into bin\n",
    "1. index all of L8 - california\n",
    "2. play with tighter date ranges - \n",
    "3. make lc.load return build_array\n",
    "4. expand to ther clouds\n",
    "5. composites and videos"
   ]
  },
  {
   "cell_type": "code",
   "execution_count": null,
   "metadata": {},
   "outputs": [],
   "source": [
    "from lilcubeLib.lc_display import Ldisplay\n",
    "ld = Ldisplay()\n",
    "ld.map_geojson(my_aoi_file)"
   ]
  },
  {
   "cell_type": "code",
   "execution_count": null,
   "metadata": {},
   "outputs": [],
   "source": [
    "def _aload(aoi_geojson_file_name, measurements, panda_df):\n",
    "    print(aoi_geojson_file_name)"
   ]
  },
  {
   "cell_type": "code",
   "execution_count": null,
   "metadata": {
    "scrolled": false
   },
   "outputs": [],
   "source": [
    "print (my_aoi_file)\n",
    "print (measurements)\n",
    "_aload(my_aoi_file, measurements, panda_df)\n",
    "\n",
    "ds = lc.load(my_aoi_file, measurements, panda_df)"
   ]
  },
  {
   "cell_type": "code",
   "execution_count": null,
   "metadata": {},
   "outputs": [],
   "source": [
    "print(type(ds))"
   ]
  },
  {
   "cell_type": "code",
   "execution_count": null,
   "metadata": {},
   "outputs": [],
   "source": [
    "! date"
   ]
  },
  {
   "cell_type": "code",
   "execution_count": null,
   "metadata": {},
   "outputs": [],
   "source": [
    "ds"
   ]
  },
  {
   "cell_type": "code",
   "execution_count": null,
   "metadata": {},
   "outputs": [],
   "source": [
    "# Bummer time for xarray autopsy"
   ]
  },
  {
   "cell_type": "code",
   "execution_count": null,
   "metadata": {},
   "outputs": [],
   "source": [
    "%matplotlib inline\n",
    "display_color = 'red'\n",
    "ds[display_color].plot.imshow('x', 'y', col='datePR', col_wrap=4, cmap='prism')"
   ]
  },
  {
   "cell_type": "code",
   "execution_count": null,
   "metadata": {},
   "outputs": [],
   "source": [
    "ds[display_color].plot.imshow('x', 'y', col='datePR', col_wrap=4, cmap='prism')"
   ]
  },
  {
   "cell_type": "code",
   "execution_count": null,
   "metadata": {},
   "outputs": [],
   "source": [
    "panda_df.head()"
   ]
  },
  {
   "cell_type": "code",
   "execution_count": null,
   "metadata": {},
   "outputs": [],
   "source": [
    "df = panda_df"
   ]
  },
  {
   "cell_type": "code",
   "execution_count": null,
   "metadata": {},
   "outputs": [],
   "source": [
    "df.iloc[0]"
   ]
  },
  {
   "cell_type": "code",
   "execution_count": null,
   "metadata": {},
   "outputs": [],
   "source": [
    "df.iloc[0]['red']"
   ]
  },
  {
   "cell_type": "code",
   "execution_count": null,
   "metadata": {},
   "outputs": [],
   "source": [
    "redfile = df.iloc[0]['red']"
   ]
  },
  {
   "cell_type": "code",
   "execution_count": null,
   "metadata": {},
   "outputs": [],
   "source": [
    "import rasterio\n",
    "with rasterio.open(redfile) as src:\n",
    "    print(src.crs)"
   ]
  },
  {
   "cell_type": "code",
   "execution_count": null,
   "metadata": {},
   "outputs": [],
   "source": [
    "print (src)"
   ]
  },
  {
   "cell_type": "code",
   "execution_count": null,
   "metadata": {},
   "outputs": [],
   "source": [
    "print (dir(src))"
   ]
  },
  {
   "cell_type": "code",
   "execution_count": null,
   "metadata": {},
   "outputs": [],
   "source": [
    "print(src.width, src.height)"
   ]
  },
  {
   "cell_type": "code",
   "execution_count": null,
   "metadata": {},
   "outputs": [],
   "source": [
    "print(src.shape)"
   ]
  },
  {
   "cell_type": "code",
   "execution_count": null,
   "metadata": {},
   "outputs": [],
   "source": [
    "print(src.res)"
   ]
  },
  {
   "cell_type": "code",
   "execution_count": null,
   "metadata": {},
   "outputs": [],
   "source": [
    "print(src.sample)"
   ]
  },
  {
   "cell_type": "markdown",
   "metadata": {},
   "source": [
    "# Compare x,y orientation agains the steps of ODC-heavy\n",
    "\n",
    "1. new notebook p0-understand datacube xarray capabilities"
   ]
  },
  {
   "cell_type": "code",
   "execution_count": null,
   "metadata": {},
   "outputs": [],
   "source": [
    "# https://medium.com/@pramukta/recipe-importing-geojson-into-shapely-da1edf79f41d\n",
    "import json\n",
    "from shapely.geometry import shape, GeometryCollection\n",
    "\n",
    "#with open(\"geojson_file.geojson\") as f:\n",
    "with open(my_aoi_file) as f:\n",
    "  features = json.load(f)[\"features\"]\n",
    "\n",
    "# NOTE: buffer(0) is a trick for fixing scenarios where polygons have overlapping coordinates \n",
    "geometry = GeometryCollection([shape(feature[\"geometry\"]).buffer(0) for feature in features])\n",
    "geometry"
   ]
  },
  {
   "cell_type": "code",
   "execution_count": null,
   "metadata": {},
   "outputs": [],
   "source": [
    "from functools import partial\n",
    "import shapely.ops\n",
    "import pyproj\n",
    "\n",
    "# Suppose geometry is an instance of shapely.geometry.Geometry\n",
    "tfm = partial(pyproj.transform, \n",
    "              pyproj.Proj(init=\"epsg:4326\"), \n",
    "              pyproj.Proj(init=\"epsg:5072\"))\n",
    "reprojected = shapely.ops.transform(tfm, geometry)\n",
    "\n",
    "reprojected"
   ]
  },
  {
   "cell_type": "code",
   "execution_count": null,
   "metadata": {},
   "outputs": [],
   "source": [
    "from notebookLib.nb_DEAPlotting import nb_rgb\n",
    "\n",
    "nb_rgb(ds,bands = ['red', 'green', 'blue'], index = [0,1,6,7,8,11,13,14,15], index_dim='datePR',\n",
    "       percentile_stretch=(.2,.70), aspect=1.2)"
   ]
  },
  {
   "cell_type": "code",
   "execution_count": null,
   "metadata": {},
   "outputs": [],
   "source": [
    "\n",
    "nb_rgb(ds,bands = ['red', 'green', 'blue'], index = [0,1,2,3,4,5,6,7,8,9], index_dim='datePR',\n",
    "       percentile_stretch=(.2,.60), aspect=1.2)"
   ]
  },
  {
   "cell_type": "code",
   "execution_count": null,
   "metadata": {},
   "outputs": [],
   "source": []
  }
 ],
 "metadata": {
  "kernelspec": {
   "display_name": "Python 3",
   "language": "python",
   "name": "python3"
  },
  "language_info": {
   "codemirror_mode": {
    "name": "ipython",
    "version": 3
   },
   "file_extension": ".py",
   "mimetype": "text/x-python",
   "name": "python",
   "nbconvert_exporter": "python",
   "pygments_lexer": "ipython3",
   "version": "3.6.7"
  }
 },
 "nbformat": 4,
 "nbformat_minor": 2
}
